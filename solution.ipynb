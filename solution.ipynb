{
 "cells": [
  {
   "cell_type": "markdown",
   "id": "e06b8f8f",
   "metadata": {},
   "source": [
    "# Data science LATAM airlines challenge"
   ]
  },
  {
   "cell_type": "markdown",
   "id": "6a6fcc0b",
   "metadata": {},
   "source": [
    "## Import libraries"
   ]
  },
  {
   "cell_type": "code",
   "execution_count": 1,
   "id": "5acb2707",
   "metadata": {},
   "outputs": [],
   "source": [
    "import pandas as pd\n",
    "import numpy as np\n",
    "from datetime import datetime\n",
    "import matplotlib.pyplot as plt"
   ]
  },
  {
   "cell_type": "markdown",
   "id": "437bc4b6",
   "metadata": {},
   "source": [
    "## Read data and explore records"
   ]
  },
  {
   "cell_type": "code",
   "execution_count": 2,
   "id": "8798053b",
   "metadata": {},
   "outputs": [
    {
     "data": {
      "text/html": [
       "<div>\n",
       "<style scoped>\n",
       "    .dataframe tbody tr th:only-of-type {\n",
       "        vertical-align: middle;\n",
       "    }\n",
       "\n",
       "    .dataframe tbody tr th {\n",
       "        vertical-align: top;\n",
       "    }\n",
       "\n",
       "    .dataframe thead th {\n",
       "        text-align: right;\n",
       "    }\n",
       "</style>\n",
       "<table border=\"1\" class=\"dataframe\">\n",
       "  <thead>\n",
       "    <tr style=\"text-align: right;\">\n",
       "      <th></th>\n",
       "      <th>Fecha-I</th>\n",
       "      <th>Vlo-I</th>\n",
       "      <th>Ori-I</th>\n",
       "      <th>Des-I</th>\n",
       "      <th>Emp-I</th>\n",
       "      <th>Fecha-O</th>\n",
       "      <th>Vlo-O</th>\n",
       "      <th>Ori-O</th>\n",
       "      <th>Des-O</th>\n",
       "      <th>Emp-O</th>\n",
       "      <th>DIA</th>\n",
       "      <th>MES</th>\n",
       "      <th>AÑO</th>\n",
       "      <th>DIANOM</th>\n",
       "      <th>TIPOVUELO</th>\n",
       "      <th>OPERA</th>\n",
       "      <th>SIGLAORI</th>\n",
       "      <th>SIGLADES</th>\n",
       "    </tr>\n",
       "  </thead>\n",
       "  <tbody>\n",
       "    <tr>\n",
       "      <th>0</th>\n",
       "      <td>2017-01-01 23:30:00</td>\n",
       "      <td>226</td>\n",
       "      <td>SCEL</td>\n",
       "      <td>KMIA</td>\n",
       "      <td>AAL</td>\n",
       "      <td>2017-01-01 23:33:00</td>\n",
       "      <td>226</td>\n",
       "      <td>SCEL</td>\n",
       "      <td>KMIA</td>\n",
       "      <td>AAL</td>\n",
       "      <td>1</td>\n",
       "      <td>1</td>\n",
       "      <td>2017</td>\n",
       "      <td>Domingo</td>\n",
       "      <td>I</td>\n",
       "      <td>American Airlines</td>\n",
       "      <td>Santiago</td>\n",
       "      <td>Miami</td>\n",
       "    </tr>\n",
       "    <tr>\n",
       "      <th>1</th>\n",
       "      <td>2017-01-02 23:30:00</td>\n",
       "      <td>226</td>\n",
       "      <td>SCEL</td>\n",
       "      <td>KMIA</td>\n",
       "      <td>AAL</td>\n",
       "      <td>2017-01-02 23:39:00</td>\n",
       "      <td>226</td>\n",
       "      <td>SCEL</td>\n",
       "      <td>KMIA</td>\n",
       "      <td>AAL</td>\n",
       "      <td>2</td>\n",
       "      <td>1</td>\n",
       "      <td>2017</td>\n",
       "      <td>Lunes</td>\n",
       "      <td>I</td>\n",
       "      <td>American Airlines</td>\n",
       "      <td>Santiago</td>\n",
       "      <td>Miami</td>\n",
       "    </tr>\n",
       "    <tr>\n",
       "      <th>2</th>\n",
       "      <td>2017-01-03 23:30:00</td>\n",
       "      <td>226</td>\n",
       "      <td>SCEL</td>\n",
       "      <td>KMIA</td>\n",
       "      <td>AAL</td>\n",
       "      <td>2017-01-03 23:39:00</td>\n",
       "      <td>226</td>\n",
       "      <td>SCEL</td>\n",
       "      <td>KMIA</td>\n",
       "      <td>AAL</td>\n",
       "      <td>3</td>\n",
       "      <td>1</td>\n",
       "      <td>2017</td>\n",
       "      <td>Martes</td>\n",
       "      <td>I</td>\n",
       "      <td>American Airlines</td>\n",
       "      <td>Santiago</td>\n",
       "      <td>Miami</td>\n",
       "    </tr>\n",
       "    <tr>\n",
       "      <th>3</th>\n",
       "      <td>2017-01-04 23:30:00</td>\n",
       "      <td>226</td>\n",
       "      <td>SCEL</td>\n",
       "      <td>KMIA</td>\n",
       "      <td>AAL</td>\n",
       "      <td>2017-01-04 23:33:00</td>\n",
       "      <td>226</td>\n",
       "      <td>SCEL</td>\n",
       "      <td>KMIA</td>\n",
       "      <td>AAL</td>\n",
       "      <td>4</td>\n",
       "      <td>1</td>\n",
       "      <td>2017</td>\n",
       "      <td>Miercoles</td>\n",
       "      <td>I</td>\n",
       "      <td>American Airlines</td>\n",
       "      <td>Santiago</td>\n",
       "      <td>Miami</td>\n",
       "    </tr>\n",
       "    <tr>\n",
       "      <th>4</th>\n",
       "      <td>2017-01-05 23:30:00</td>\n",
       "      <td>226</td>\n",
       "      <td>SCEL</td>\n",
       "      <td>KMIA</td>\n",
       "      <td>AAL</td>\n",
       "      <td>2017-01-05 23:28:00</td>\n",
       "      <td>226</td>\n",
       "      <td>SCEL</td>\n",
       "      <td>KMIA</td>\n",
       "      <td>AAL</td>\n",
       "      <td>5</td>\n",
       "      <td>1</td>\n",
       "      <td>2017</td>\n",
       "      <td>Jueves</td>\n",
       "      <td>I</td>\n",
       "      <td>American Airlines</td>\n",
       "      <td>Santiago</td>\n",
       "      <td>Miami</td>\n",
       "    </tr>\n",
       "    <tr>\n",
       "      <th>...</th>\n",
       "      <td>...</td>\n",
       "      <td>...</td>\n",
       "      <td>...</td>\n",
       "      <td>...</td>\n",
       "      <td>...</td>\n",
       "      <td>...</td>\n",
       "      <td>...</td>\n",
       "      <td>...</td>\n",
       "      <td>...</td>\n",
       "      <td>...</td>\n",
       "      <td>...</td>\n",
       "      <td>...</td>\n",
       "      <td>...</td>\n",
       "      <td>...</td>\n",
       "      <td>...</td>\n",
       "      <td>...</td>\n",
       "      <td>...</td>\n",
       "      <td>...</td>\n",
       "    </tr>\n",
       "    <tr>\n",
       "      <th>68201</th>\n",
       "      <td>2017-12-22 14:55:00</td>\n",
       "      <td>400</td>\n",
       "      <td>SCEL</td>\n",
       "      <td>SPJC</td>\n",
       "      <td>JAT</td>\n",
       "      <td>2017-12-22 15:41:00</td>\n",
       "      <td>400.0</td>\n",
       "      <td>SCEL</td>\n",
       "      <td>SPJC</td>\n",
       "      <td>JAT</td>\n",
       "      <td>22</td>\n",
       "      <td>12</td>\n",
       "      <td>2017</td>\n",
       "      <td>Viernes</td>\n",
       "      <td>I</td>\n",
       "      <td>JetSmart SPA</td>\n",
       "      <td>Santiago</td>\n",
       "      <td>Lima</td>\n",
       "    </tr>\n",
       "    <tr>\n",
       "      <th>68202</th>\n",
       "      <td>2017-12-25 14:55:00</td>\n",
       "      <td>400</td>\n",
       "      <td>SCEL</td>\n",
       "      <td>SPJC</td>\n",
       "      <td>JAT</td>\n",
       "      <td>2017-12-25 15:11:00</td>\n",
       "      <td>400.0</td>\n",
       "      <td>SCEL</td>\n",
       "      <td>SPJC</td>\n",
       "      <td>JAT</td>\n",
       "      <td>25</td>\n",
       "      <td>12</td>\n",
       "      <td>2017</td>\n",
       "      <td>Lunes</td>\n",
       "      <td>I</td>\n",
       "      <td>JetSmart SPA</td>\n",
       "      <td>Santiago</td>\n",
       "      <td>Lima</td>\n",
       "    </tr>\n",
       "    <tr>\n",
       "      <th>68203</th>\n",
       "      <td>2017-12-27 14:55:00</td>\n",
       "      <td>400</td>\n",
       "      <td>SCEL</td>\n",
       "      <td>SPJC</td>\n",
       "      <td>JAT</td>\n",
       "      <td>2017-12-27 15:35:00</td>\n",
       "      <td>400.0</td>\n",
       "      <td>SCEL</td>\n",
       "      <td>SPJC</td>\n",
       "      <td>JAT</td>\n",
       "      <td>27</td>\n",
       "      <td>12</td>\n",
       "      <td>2017</td>\n",
       "      <td>Miercoles</td>\n",
       "      <td>I</td>\n",
       "      <td>JetSmart SPA</td>\n",
       "      <td>Santiago</td>\n",
       "      <td>Lima</td>\n",
       "    </tr>\n",
       "    <tr>\n",
       "      <th>68204</th>\n",
       "      <td>2017-12-29 14:55:00</td>\n",
       "      <td>400</td>\n",
       "      <td>SCEL</td>\n",
       "      <td>SPJC</td>\n",
       "      <td>JAT</td>\n",
       "      <td>2017-12-29 15:08:00</td>\n",
       "      <td>400.0</td>\n",
       "      <td>SCEL</td>\n",
       "      <td>SPJC</td>\n",
       "      <td>JAT</td>\n",
       "      <td>29</td>\n",
       "      <td>12</td>\n",
       "      <td>2017</td>\n",
       "      <td>Viernes</td>\n",
       "      <td>I</td>\n",
       "      <td>JetSmart SPA</td>\n",
       "      <td>Santiago</td>\n",
       "      <td>Lima</td>\n",
       "    </tr>\n",
       "    <tr>\n",
       "      <th>68205</th>\n",
       "      <td>2017-12-31 14:55:00</td>\n",
       "      <td>400</td>\n",
       "      <td>SCEL</td>\n",
       "      <td>SPJC</td>\n",
       "      <td>JAT</td>\n",
       "      <td>2017-12-31 15:04:00</td>\n",
       "      <td>400.0</td>\n",
       "      <td>SCEL</td>\n",
       "      <td>SPJC</td>\n",
       "      <td>JAT</td>\n",
       "      <td>31</td>\n",
       "      <td>12</td>\n",
       "      <td>2017</td>\n",
       "      <td>Domingo</td>\n",
       "      <td>I</td>\n",
       "      <td>JetSmart SPA</td>\n",
       "      <td>Santiago</td>\n",
       "      <td>Lima</td>\n",
       "    </tr>\n",
       "  </tbody>\n",
       "</table>\n",
       "<p>68206 rows × 18 columns</p>\n",
       "</div>"
      ],
      "text/plain": [
       "                   Fecha-I Vlo-I Ori-I Des-I Emp-I              Fecha-O  \\\n",
       "0      2017-01-01 23:30:00   226  SCEL  KMIA   AAL  2017-01-01 23:33:00   \n",
       "1      2017-01-02 23:30:00   226  SCEL  KMIA   AAL  2017-01-02 23:39:00   \n",
       "2      2017-01-03 23:30:00   226  SCEL  KMIA   AAL  2017-01-03 23:39:00   \n",
       "3      2017-01-04 23:30:00   226  SCEL  KMIA   AAL  2017-01-04 23:33:00   \n",
       "4      2017-01-05 23:30:00   226  SCEL  KMIA   AAL  2017-01-05 23:28:00   \n",
       "...                    ...   ...   ...   ...   ...                  ...   \n",
       "68201  2017-12-22 14:55:00   400  SCEL  SPJC   JAT  2017-12-22 15:41:00   \n",
       "68202  2017-12-25 14:55:00   400  SCEL  SPJC   JAT  2017-12-25 15:11:00   \n",
       "68203  2017-12-27 14:55:00   400  SCEL  SPJC   JAT  2017-12-27 15:35:00   \n",
       "68204  2017-12-29 14:55:00   400  SCEL  SPJC   JAT  2017-12-29 15:08:00   \n",
       "68205  2017-12-31 14:55:00   400  SCEL  SPJC   JAT  2017-12-31 15:04:00   \n",
       "\n",
       "       Vlo-O Ori-O Des-O Emp-O  DIA  MES   AÑO     DIANOM TIPOVUELO  \\\n",
       "0        226  SCEL  KMIA   AAL    1    1  2017    Domingo         I   \n",
       "1        226  SCEL  KMIA   AAL    2    1  2017      Lunes         I   \n",
       "2        226  SCEL  KMIA   AAL    3    1  2017     Martes         I   \n",
       "3        226  SCEL  KMIA   AAL    4    1  2017  Miercoles         I   \n",
       "4        226  SCEL  KMIA   AAL    5    1  2017     Jueves         I   \n",
       "...      ...   ...   ...   ...  ...  ...   ...        ...       ...   \n",
       "68201  400.0  SCEL  SPJC   JAT   22   12  2017    Viernes         I   \n",
       "68202  400.0  SCEL  SPJC   JAT   25   12  2017      Lunes         I   \n",
       "68203  400.0  SCEL  SPJC   JAT   27   12  2017  Miercoles         I   \n",
       "68204  400.0  SCEL  SPJC   JAT   29   12  2017    Viernes         I   \n",
       "68205  400.0  SCEL  SPJC   JAT   31   12  2017    Domingo         I   \n",
       "\n",
       "                   OPERA  SIGLAORI SIGLADES  \n",
       "0      American Airlines  Santiago    Miami  \n",
       "1      American Airlines  Santiago    Miami  \n",
       "2      American Airlines  Santiago    Miami  \n",
       "3      American Airlines  Santiago    Miami  \n",
       "4      American Airlines  Santiago    Miami  \n",
       "...                  ...       ...      ...  \n",
       "68201       JetSmart SPA  Santiago     Lima  \n",
       "68202       JetSmart SPA  Santiago     Lima  \n",
       "68203       JetSmart SPA  Santiago     Lima  \n",
       "68204       JetSmart SPA  Santiago     Lima  \n",
       "68205       JetSmart SPA  Santiago     Lima  \n",
       "\n",
       "[68206 rows x 18 columns]"
      ]
     },
     "metadata": {},
     "output_type": "display_data"
    }
   ],
   "source": [
    "dataset = pd.read_csv('dataset_SCL.csv', low_memory=False)\n",
    "display(dataset)"
   ]
  },
  {
   "cell_type": "markdown",
   "id": "fc362afa",
   "metadata": {},
   "source": [
    "## 1. How data is distributed?"
   ]
  },
  {
   "cell_type": "markdown",
   "id": "3fd9d2fd",
   "metadata": {},
   "source": [
    "### General"
   ]
  },
  {
   "cell_type": "code",
   "execution_count": 3,
   "id": "453c849e",
   "metadata": {},
   "outputs": [
    {
     "data": {
      "text/html": [
       "<div>\n",
       "<style scoped>\n",
       "    .dataframe tbody tr th:only-of-type {\n",
       "        vertical-align: middle;\n",
       "    }\n",
       "\n",
       "    .dataframe tbody tr th {\n",
       "        vertical-align: top;\n",
       "    }\n",
       "\n",
       "    .dataframe thead th {\n",
       "        text-align: right;\n",
       "    }\n",
       "</style>\n",
       "<table border=\"1\" class=\"dataframe\">\n",
       "  <thead>\n",
       "    <tr style=\"text-align: right;\">\n",
       "      <th></th>\n",
       "      <th>Fecha-I</th>\n",
       "      <th>Vlo-I</th>\n",
       "      <th>Ori-I</th>\n",
       "      <th>Des-I</th>\n",
       "      <th>Emp-I</th>\n",
       "      <th>Fecha-O</th>\n",
       "      <th>Vlo-O</th>\n",
       "      <th>Ori-O</th>\n",
       "      <th>Des-O</th>\n",
       "      <th>Emp-O</th>\n",
       "      <th>DIA</th>\n",
       "      <th>MES</th>\n",
       "      <th>AÑO</th>\n",
       "      <th>DIANOM</th>\n",
       "      <th>TIPOVUELO</th>\n",
       "      <th>OPERA</th>\n",
       "      <th>SIGLAORI</th>\n",
       "      <th>SIGLADES</th>\n",
       "    </tr>\n",
       "  </thead>\n",
       "  <tbody>\n",
       "    <tr>\n",
       "      <th>count</th>\n",
       "      <td>68206</td>\n",
       "      <td>68206</td>\n",
       "      <td>68206</td>\n",
       "      <td>68206</td>\n",
       "      <td>68206</td>\n",
       "      <td>68206</td>\n",
       "      <td>68205</td>\n",
       "      <td>68206</td>\n",
       "      <td>68206</td>\n",
       "      <td>68206</td>\n",
       "      <td>68206</td>\n",
       "      <td>68206</td>\n",
       "      <td>68206</td>\n",
       "      <td>68206</td>\n",
       "      <td>68206</td>\n",
       "      <td>68206</td>\n",
       "      <td>68206</td>\n",
       "      <td>68206</td>\n",
       "    </tr>\n",
       "    <tr>\n",
       "      <th>unique</th>\n",
       "      <td>53252</td>\n",
       "      <td>584</td>\n",
       "      <td>1</td>\n",
       "      <td>64</td>\n",
       "      <td>30</td>\n",
       "      <td>62774</td>\n",
       "      <td>861</td>\n",
       "      <td>1</td>\n",
       "      <td>63</td>\n",
       "      <td>32</td>\n",
       "      <td>31</td>\n",
       "      <td>12</td>\n",
       "      <td>2</td>\n",
       "      <td>7</td>\n",
       "      <td>2</td>\n",
       "      <td>23</td>\n",
       "      <td>1</td>\n",
       "      <td>62</td>\n",
       "    </tr>\n",
       "    <tr>\n",
       "      <th>top</th>\n",
       "      <td>2017-07-28 13:30:00</td>\n",
       "      <td>174</td>\n",
       "      <td>SCEL</td>\n",
       "      <td>SCFA</td>\n",
       "      <td>LAN</td>\n",
       "      <td>2017-11-05 14:51:00</td>\n",
       "      <td>174</td>\n",
       "      <td>SCEL</td>\n",
       "      <td>SCFA</td>\n",
       "      <td>LAN</td>\n",
       "      <td>20</td>\n",
       "      <td>12</td>\n",
       "      <td>2017</td>\n",
       "      <td>Viernes</td>\n",
       "      <td>N</td>\n",
       "      <td>Grupo LATAM</td>\n",
       "      <td>Santiago</td>\n",
       "      <td>Buenos Aires</td>\n",
       "    </tr>\n",
       "    <tr>\n",
       "      <th>freq</th>\n",
       "      <td>6</td>\n",
       "      <td>686</td>\n",
       "      <td>68206</td>\n",
       "      <td>5787</td>\n",
       "      <td>37611</td>\n",
       "      <td>5</td>\n",
       "      <td>649</td>\n",
       "      <td>68206</td>\n",
       "      <td>5786</td>\n",
       "      <td>20988</td>\n",
       "      <td>2290</td>\n",
       "      <td>6356</td>\n",
       "      <td>68204</td>\n",
       "      <td>10292</td>\n",
       "      <td>36966</td>\n",
       "      <td>40892</td>\n",
       "      <td>68206</td>\n",
       "      <td>6335</td>\n",
       "    </tr>\n",
       "  </tbody>\n",
       "</table>\n",
       "</div>"
      ],
      "text/plain": [
       "                    Fecha-I  Vlo-I  Ori-I  Des-I  Emp-I              Fecha-O  \\\n",
       "count                 68206  68206  68206  68206  68206                68206   \n",
       "unique                53252    584      1     64     30                62774   \n",
       "top     2017-07-28 13:30:00    174   SCEL   SCFA    LAN  2017-11-05 14:51:00   \n",
       "freq                      6    686  68206   5787  37611                    5   \n",
       "\n",
       "        Vlo-O  Ori-O  Des-O  Emp-O    DIA    MES    AÑO   DIANOM TIPOVUELO  \\\n",
       "count   68205  68206  68206  68206  68206  68206  68206    68206     68206   \n",
       "unique    861      1     63     32     31     12      2        7         2   \n",
       "top       174   SCEL   SCFA    LAN     20     12   2017  Viernes         N   \n",
       "freq      649  68206   5786  20988   2290   6356  68204    10292     36966   \n",
       "\n",
       "              OPERA  SIGLAORI      SIGLADES  \n",
       "count         68206     68206         68206  \n",
       "unique           23         1            62  \n",
       "top     Grupo LATAM  Santiago  Buenos Aires  \n",
       "freq          40892     68206          6335  "
      ]
     },
     "execution_count": 3,
     "metadata": {},
     "output_type": "execute_result"
    }
   ],
   "source": [
    "dataset.astype('object').describe()"
   ]
  },
  {
   "cell_type": "markdown",
   "id": "86e3e412",
   "metadata": {},
   "source": [
    "As we can see in the table above, we have flight data from a departure city (Santiago) to more than 60 arrival cities. We have the dates of the flights stored as strings, so the first thing we are going to do is convert it to datetime format to be able to operate with those dates more easily."
   ]
  },
  {
   "cell_type": "code",
   "execution_count": 4,
   "id": "f766356c",
   "metadata": {},
   "outputs": [],
   "source": [
    "# Assign datetime format to date fields\n",
    "dataset['Fecha-I'] = dataset['Fecha-I'].apply(lambda x: datetime.strptime(x, '%Y-%m-%d %H:%M:%S'))\n",
    "dataset['Fecha-O'] = dataset['Fecha-O'].apply(lambda x: datetime.strptime(x, '%Y-%m-%d %H:%M:%S'))"
   ]
  },
  {
   "cell_type": "code",
   "execution_count": 5,
   "id": "1ff9df82",
   "metadata": {},
   "outputs": [
    {
     "name": "stdout",
     "output_type": "stream",
     "text": [
      "Min. operation date: 2017-01-01 00:04:00\n",
      "Max. operation date: 2018-01-01 00:12:00\n"
     ]
    }
   ],
   "source": [
    "print('Min. operation date: {}'.format(dataset['Fecha-O'].min()))\n",
    "print('Max. operation date: {}'.format(dataset['Fecha-O'].max()))"
   ]
  },
  {
   "cell_type": "markdown",
   "id": "9a964892",
   "metadata": {},
   "source": [
    "We have data for all of 2017!!! As we only have one year is not neccesary to use the variable year in our analysis."
   ]
  },
  {
   "cell_type": "markdown",
   "id": "61d7d506",
   "metadata": {},
   "source": [
    "### Day of the week"
   ]
  },
  {
   "cell_type": "code",
   "execution_count": 6,
   "id": "699f69ad",
   "metadata": {},
   "outputs": [
    {
     "data": {
      "text/plain": [
       "DIANOM\n",
       "Domingo      0.143624\n",
       "Jueves       0.150295\n",
       "Lunes        0.148535\n",
       "Martes       0.141659\n",
       "Miercoles    0.142539\n",
       "Sabado       0.122453\n",
       "Viernes      0.150896\n",
       "Name: DIANOM, dtype: float64"
      ]
     },
     "execution_count": 6,
     "metadata": {},
     "output_type": "execute_result"
    }
   ],
   "source": [
    "dataset.groupby('DIANOM')['DIANOM'].count()/(len(dataset))"
   ]
  },
  {
   "cell_type": "markdown",
   "id": "c9593c67",
   "metadata": {},
   "source": [
    "It seems that the days of the week where the people use to travel more are fridays and mondays. That agrees with the common sense, where you could think that those days are the ones that people use more for its vacations trips."
   ]
  },
  {
   "cell_type": "markdown",
   "id": "6dd3f483",
   "metadata": {},
   "source": [
    "### Month"
   ]
  },
  {
   "cell_type": "code",
   "execution_count": 7,
   "id": "4a94edb2",
   "metadata": {},
   "outputs": [
    {
     "data": {
      "text/plain": [
       "MES\n",
       "1     0.089552\n",
       "2     0.081532\n",
       "3     0.080374\n",
       "4     0.073601\n",
       "5     0.076826\n",
       "6     0.073029\n",
       "7     0.087852\n",
       "8     0.084215\n",
       "9     0.082251\n",
       "10    0.088438\n",
       "11    0.089142\n",
       "12    0.093188\n",
       "Name: MES, dtype: float64"
      ]
     },
     "execution_count": 7,
     "metadata": {},
     "output_type": "execute_result"
    }
   ],
   "source": [
    "dataset.groupby('MES')['MES'].count()/(len(dataset))"
   ]
  },
  {
   "cell_type": "markdown",
   "id": "5faafdfa",
   "metadata": {},
   "source": [
    "The months where the people used to travel more are at the beginning or at the end of the year."
   ]
  },
  {
   "cell_type": "markdown",
   "id": "c37a8599",
   "metadata": {},
   "source": [
    "### Flight type"
   ]
  },
  {
   "cell_type": "code",
   "execution_count": 8,
   "id": "87c01a9c",
   "metadata": {},
   "outputs": [
    {
     "data": {
      "text/plain": [
       "TIPOVUELO\n",
       "I    0.458024\n",
       "N    0.541976\n",
       "Name: TIPOVUELO, dtype: float64"
      ]
     },
     "execution_count": 8,
     "metadata": {},
     "output_type": "execute_result"
    }
   ],
   "source": [
    "dataset.groupby('TIPOVUELO')['TIPOVUELO'].count()/(len(dataset))"
   ]
  },
  {
   "cell_type": "markdown",
   "id": "2d346976",
   "metadata": {},
   "source": [
    "We have a little more data on domestic than international travel."
   ]
  },
  {
   "cell_type": "markdown",
   "id": "3cc12094",
   "metadata": {},
   "source": [
    "## 2. Generate synthetic features"
   ]
  },
  {
   "cell_type": "code",
   "execution_count": 9,
   "id": "20fa132b",
   "metadata": {},
   "outputs": [
    {
     "data": {
      "text/html": [
       "<div>\n",
       "<style scoped>\n",
       "    .dataframe tbody tr th:only-of-type {\n",
       "        vertical-align: middle;\n",
       "    }\n",
       "\n",
       "    .dataframe tbody tr th {\n",
       "        vertical-align: top;\n",
       "    }\n",
       "\n",
       "    .dataframe thead th {\n",
       "        text-align: right;\n",
       "    }\n",
       "</style>\n",
       "<table border=\"1\" class=\"dataframe\">\n",
       "  <thead>\n",
       "    <tr style=\"text-align: right;\">\n",
       "      <th></th>\n",
       "      <th>Fecha-I</th>\n",
       "      <th>Vlo-I</th>\n",
       "      <th>Ori-I</th>\n",
       "      <th>Des-I</th>\n",
       "      <th>Emp-I</th>\n",
       "      <th>Fecha-O</th>\n",
       "      <th>Vlo-O</th>\n",
       "      <th>Ori-O</th>\n",
       "      <th>Des-O</th>\n",
       "      <th>Emp-O</th>\n",
       "      <th>...</th>\n",
       "      <th>AÑO</th>\n",
       "      <th>DIANOM</th>\n",
       "      <th>TIPOVUELO</th>\n",
       "      <th>OPERA</th>\n",
       "      <th>SIGLAORI</th>\n",
       "      <th>SIGLADES</th>\n",
       "      <th>high_season</th>\n",
       "      <th>min_diff</th>\n",
       "      <th>delay_15</th>\n",
       "      <th>period_day</th>\n",
       "    </tr>\n",
       "  </thead>\n",
       "  <tbody>\n",
       "    <tr>\n",
       "      <th>0</th>\n",
       "      <td>2017-01-01 23:30:00</td>\n",
       "      <td>226</td>\n",
       "      <td>SCEL</td>\n",
       "      <td>KMIA</td>\n",
       "      <td>AAL</td>\n",
       "      <td>2017-01-01 23:33:00</td>\n",
       "      <td>226</td>\n",
       "      <td>SCEL</td>\n",
       "      <td>KMIA</td>\n",
       "      <td>AAL</td>\n",
       "      <td>...</td>\n",
       "      <td>2017</td>\n",
       "      <td>Domingo</td>\n",
       "      <td>I</td>\n",
       "      <td>American Airlines</td>\n",
       "      <td>Santiago</td>\n",
       "      <td>Miami</td>\n",
       "      <td>0</td>\n",
       "      <td>3.0</td>\n",
       "      <td>0</td>\n",
       "      <td>night</td>\n",
       "    </tr>\n",
       "    <tr>\n",
       "      <th>1</th>\n",
       "      <td>2017-01-02 23:30:00</td>\n",
       "      <td>226</td>\n",
       "      <td>SCEL</td>\n",
       "      <td>KMIA</td>\n",
       "      <td>AAL</td>\n",
       "      <td>2017-01-02 23:39:00</td>\n",
       "      <td>226</td>\n",
       "      <td>SCEL</td>\n",
       "      <td>KMIA</td>\n",
       "      <td>AAL</td>\n",
       "      <td>...</td>\n",
       "      <td>2017</td>\n",
       "      <td>Lunes</td>\n",
       "      <td>I</td>\n",
       "      <td>American Airlines</td>\n",
       "      <td>Santiago</td>\n",
       "      <td>Miami</td>\n",
       "      <td>0</td>\n",
       "      <td>9.0</td>\n",
       "      <td>0</td>\n",
       "      <td>night</td>\n",
       "    </tr>\n",
       "    <tr>\n",
       "      <th>2</th>\n",
       "      <td>2017-01-03 23:30:00</td>\n",
       "      <td>226</td>\n",
       "      <td>SCEL</td>\n",
       "      <td>KMIA</td>\n",
       "      <td>AAL</td>\n",
       "      <td>2017-01-03 23:39:00</td>\n",
       "      <td>226</td>\n",
       "      <td>SCEL</td>\n",
       "      <td>KMIA</td>\n",
       "      <td>AAL</td>\n",
       "      <td>...</td>\n",
       "      <td>2017</td>\n",
       "      <td>Martes</td>\n",
       "      <td>I</td>\n",
       "      <td>American Airlines</td>\n",
       "      <td>Santiago</td>\n",
       "      <td>Miami</td>\n",
       "      <td>0</td>\n",
       "      <td>9.0</td>\n",
       "      <td>0</td>\n",
       "      <td>night</td>\n",
       "    </tr>\n",
       "    <tr>\n",
       "      <th>3</th>\n",
       "      <td>2017-01-04 23:30:00</td>\n",
       "      <td>226</td>\n",
       "      <td>SCEL</td>\n",
       "      <td>KMIA</td>\n",
       "      <td>AAL</td>\n",
       "      <td>2017-01-04 23:33:00</td>\n",
       "      <td>226</td>\n",
       "      <td>SCEL</td>\n",
       "      <td>KMIA</td>\n",
       "      <td>AAL</td>\n",
       "      <td>...</td>\n",
       "      <td>2017</td>\n",
       "      <td>Miercoles</td>\n",
       "      <td>I</td>\n",
       "      <td>American Airlines</td>\n",
       "      <td>Santiago</td>\n",
       "      <td>Miami</td>\n",
       "      <td>0</td>\n",
       "      <td>3.0</td>\n",
       "      <td>0</td>\n",
       "      <td>night</td>\n",
       "    </tr>\n",
       "    <tr>\n",
       "      <th>4</th>\n",
       "      <td>2017-01-05 23:30:00</td>\n",
       "      <td>226</td>\n",
       "      <td>SCEL</td>\n",
       "      <td>KMIA</td>\n",
       "      <td>AAL</td>\n",
       "      <td>2017-01-05 23:28:00</td>\n",
       "      <td>226</td>\n",
       "      <td>SCEL</td>\n",
       "      <td>KMIA</td>\n",
       "      <td>AAL</td>\n",
       "      <td>...</td>\n",
       "      <td>2017</td>\n",
       "      <td>Jueves</td>\n",
       "      <td>I</td>\n",
       "      <td>American Airlines</td>\n",
       "      <td>Santiago</td>\n",
       "      <td>Miami</td>\n",
       "      <td>0</td>\n",
       "      <td>-2.0</td>\n",
       "      <td>0</td>\n",
       "      <td>night</td>\n",
       "    </tr>\n",
       "    <tr>\n",
       "      <th>...</th>\n",
       "      <td>...</td>\n",
       "      <td>...</td>\n",
       "      <td>...</td>\n",
       "      <td>...</td>\n",
       "      <td>...</td>\n",
       "      <td>...</td>\n",
       "      <td>...</td>\n",
       "      <td>...</td>\n",
       "      <td>...</td>\n",
       "      <td>...</td>\n",
       "      <td>...</td>\n",
       "      <td>...</td>\n",
       "      <td>...</td>\n",
       "      <td>...</td>\n",
       "      <td>...</td>\n",
       "      <td>...</td>\n",
       "      <td>...</td>\n",
       "      <td>...</td>\n",
       "      <td>...</td>\n",
       "      <td>...</td>\n",
       "      <td>...</td>\n",
       "    </tr>\n",
       "    <tr>\n",
       "      <th>68201</th>\n",
       "      <td>2017-12-22 14:55:00</td>\n",
       "      <td>400</td>\n",
       "      <td>SCEL</td>\n",
       "      <td>SPJC</td>\n",
       "      <td>JAT</td>\n",
       "      <td>2017-12-22 15:41:00</td>\n",
       "      <td>400.0</td>\n",
       "      <td>SCEL</td>\n",
       "      <td>SPJC</td>\n",
       "      <td>JAT</td>\n",
       "      <td>...</td>\n",
       "      <td>2017</td>\n",
       "      <td>Viernes</td>\n",
       "      <td>I</td>\n",
       "      <td>JetSmart SPA</td>\n",
       "      <td>Santiago</td>\n",
       "      <td>Lima</td>\n",
       "      <td>0</td>\n",
       "      <td>46.0</td>\n",
       "      <td>1</td>\n",
       "      <td>afternoon</td>\n",
       "    </tr>\n",
       "    <tr>\n",
       "      <th>68202</th>\n",
       "      <td>2017-12-25 14:55:00</td>\n",
       "      <td>400</td>\n",
       "      <td>SCEL</td>\n",
       "      <td>SPJC</td>\n",
       "      <td>JAT</td>\n",
       "      <td>2017-12-25 15:11:00</td>\n",
       "      <td>400.0</td>\n",
       "      <td>SCEL</td>\n",
       "      <td>SPJC</td>\n",
       "      <td>JAT</td>\n",
       "      <td>...</td>\n",
       "      <td>2017</td>\n",
       "      <td>Lunes</td>\n",
       "      <td>I</td>\n",
       "      <td>JetSmart SPA</td>\n",
       "      <td>Santiago</td>\n",
       "      <td>Lima</td>\n",
       "      <td>0</td>\n",
       "      <td>16.0</td>\n",
       "      <td>1</td>\n",
       "      <td>afternoon</td>\n",
       "    </tr>\n",
       "    <tr>\n",
       "      <th>68203</th>\n",
       "      <td>2017-12-27 14:55:00</td>\n",
       "      <td>400</td>\n",
       "      <td>SCEL</td>\n",
       "      <td>SPJC</td>\n",
       "      <td>JAT</td>\n",
       "      <td>2017-12-27 15:35:00</td>\n",
       "      <td>400.0</td>\n",
       "      <td>SCEL</td>\n",
       "      <td>SPJC</td>\n",
       "      <td>JAT</td>\n",
       "      <td>...</td>\n",
       "      <td>2017</td>\n",
       "      <td>Miercoles</td>\n",
       "      <td>I</td>\n",
       "      <td>JetSmart SPA</td>\n",
       "      <td>Santiago</td>\n",
       "      <td>Lima</td>\n",
       "      <td>0</td>\n",
       "      <td>40.0</td>\n",
       "      <td>1</td>\n",
       "      <td>afternoon</td>\n",
       "    </tr>\n",
       "    <tr>\n",
       "      <th>68204</th>\n",
       "      <td>2017-12-29 14:55:00</td>\n",
       "      <td>400</td>\n",
       "      <td>SCEL</td>\n",
       "      <td>SPJC</td>\n",
       "      <td>JAT</td>\n",
       "      <td>2017-12-29 15:08:00</td>\n",
       "      <td>400.0</td>\n",
       "      <td>SCEL</td>\n",
       "      <td>SPJC</td>\n",
       "      <td>JAT</td>\n",
       "      <td>...</td>\n",
       "      <td>2017</td>\n",
       "      <td>Viernes</td>\n",
       "      <td>I</td>\n",
       "      <td>JetSmart SPA</td>\n",
       "      <td>Santiago</td>\n",
       "      <td>Lima</td>\n",
       "      <td>0</td>\n",
       "      <td>13.0</td>\n",
       "      <td>0</td>\n",
       "      <td>afternoon</td>\n",
       "    </tr>\n",
       "    <tr>\n",
       "      <th>68205</th>\n",
       "      <td>2017-12-31 14:55:00</td>\n",
       "      <td>400</td>\n",
       "      <td>SCEL</td>\n",
       "      <td>SPJC</td>\n",
       "      <td>JAT</td>\n",
       "      <td>2017-12-31 15:04:00</td>\n",
       "      <td>400.0</td>\n",
       "      <td>SCEL</td>\n",
       "      <td>SPJC</td>\n",
       "      <td>JAT</td>\n",
       "      <td>...</td>\n",
       "      <td>2017</td>\n",
       "      <td>Domingo</td>\n",
       "      <td>I</td>\n",
       "      <td>JetSmart SPA</td>\n",
       "      <td>Santiago</td>\n",
       "      <td>Lima</td>\n",
       "      <td>0</td>\n",
       "      <td>9.0</td>\n",
       "      <td>0</td>\n",
       "      <td>afternoon</td>\n",
       "    </tr>\n",
       "  </tbody>\n",
       "</table>\n",
       "<p>68206 rows × 22 columns</p>\n",
       "</div>"
      ],
      "text/plain": [
       "                  Fecha-I Vlo-I Ori-I Des-I Emp-I             Fecha-O  Vlo-O  \\\n",
       "0     2017-01-01 23:30:00   226  SCEL  KMIA   AAL 2017-01-01 23:33:00    226   \n",
       "1     2017-01-02 23:30:00   226  SCEL  KMIA   AAL 2017-01-02 23:39:00    226   \n",
       "2     2017-01-03 23:30:00   226  SCEL  KMIA   AAL 2017-01-03 23:39:00    226   \n",
       "3     2017-01-04 23:30:00   226  SCEL  KMIA   AAL 2017-01-04 23:33:00    226   \n",
       "4     2017-01-05 23:30:00   226  SCEL  KMIA   AAL 2017-01-05 23:28:00    226   \n",
       "...                   ...   ...   ...   ...   ...                 ...    ...   \n",
       "68201 2017-12-22 14:55:00   400  SCEL  SPJC   JAT 2017-12-22 15:41:00  400.0   \n",
       "68202 2017-12-25 14:55:00   400  SCEL  SPJC   JAT 2017-12-25 15:11:00  400.0   \n",
       "68203 2017-12-27 14:55:00   400  SCEL  SPJC   JAT 2017-12-27 15:35:00  400.0   \n",
       "68204 2017-12-29 14:55:00   400  SCEL  SPJC   JAT 2017-12-29 15:08:00  400.0   \n",
       "68205 2017-12-31 14:55:00   400  SCEL  SPJC   JAT 2017-12-31 15:04:00  400.0   \n",
       "\n",
       "      Ori-O Des-O Emp-O  ...   AÑO     DIANOM  TIPOVUELO              OPERA  \\\n",
       "0      SCEL  KMIA   AAL  ...  2017    Domingo          I  American Airlines   \n",
       "1      SCEL  KMIA   AAL  ...  2017      Lunes          I  American Airlines   \n",
       "2      SCEL  KMIA   AAL  ...  2017     Martes          I  American Airlines   \n",
       "3      SCEL  KMIA   AAL  ...  2017  Miercoles          I  American Airlines   \n",
       "4      SCEL  KMIA   AAL  ...  2017     Jueves          I  American Airlines   \n",
       "...     ...   ...   ...  ...   ...        ...        ...                ...   \n",
       "68201  SCEL  SPJC   JAT  ...  2017    Viernes          I       JetSmart SPA   \n",
       "68202  SCEL  SPJC   JAT  ...  2017      Lunes          I       JetSmart SPA   \n",
       "68203  SCEL  SPJC   JAT  ...  2017  Miercoles          I       JetSmart SPA   \n",
       "68204  SCEL  SPJC   JAT  ...  2017    Viernes          I       JetSmart SPA   \n",
       "68205  SCEL  SPJC   JAT  ...  2017    Domingo          I       JetSmart SPA   \n",
       "\n",
       "       SIGLAORI SIGLADES high_season min_diff  delay_15  period_day  \n",
       "0      Santiago    Miami           0      3.0         0       night  \n",
       "1      Santiago    Miami           0      9.0         0       night  \n",
       "2      Santiago    Miami           0      9.0         0       night  \n",
       "3      Santiago    Miami           0      3.0         0       night  \n",
       "4      Santiago    Miami           0     -2.0         0       night  \n",
       "...         ...      ...         ...      ...       ...         ...  \n",
       "68201  Santiago     Lima           0     46.0         1   afternoon  \n",
       "68202  Santiago     Lima           0     16.0         1   afternoon  \n",
       "68203  Santiago     Lima           0     40.0         1   afternoon  \n",
       "68204  Santiago     Lima           0     13.0         0   afternoon  \n",
       "68205  Santiago     Lima           0      9.0         0   afternoon  \n",
       "\n",
       "[68206 rows x 22 columns]"
      ]
     },
     "metadata": {},
     "output_type": "display_data"
    }
   ],
   "source": [
    "# high_season feature\n",
    "high_season_dates = [('12-15', '3-3'), ('7-15', '7-31'), ('9-11', '9-30')] ## Set high season date ranges\n",
    "default_year = 2023\n",
    "high_season_dates = [(str(default_year) + '-' + item[0], str(default_year) + '-' + item[1]) for item in high_season_dates]\n",
    "high_season_dates = [ (datetime.strptime(season_range[0], '%Y-%m-%d').date(), datetime.strptime(season_range[1], '%Y-%m-%d').date())\n",
    "                     for season_range in high_season_dates]\n",
    "dataset['Aux-Fecha-I'] = dataset['Fecha-I'].apply(lambda x: x.replace(year=default_year).date())\n",
    "dataset['high_season'] = dataset['Aux-Fecha-I'].apply(lambda x: sum([r[1] >= x >= r[0] for r in high_season_dates]))\n",
    "dataset = dataset.drop('Aux-Fecha-I', axis=1)\n",
    "\n",
    "# min_diff feature\n",
    "dataset['min_diff'] = (dataset['Fecha-O'] - dataset['Fecha-I']).apply(lambda x : x.total_seconds() / 60)\n",
    "\n",
    "# delay_15 feature\n",
    "dataset['delay_15'] = dataset['min_diff'].apply(lambda x: int(x > 15))\n",
    "\n",
    "# period_day feature\n",
    "dataset['period_day'] = pd.cut((dataset['Fecha-I'] - pd.Timedelta(hours=5)).dt.hour,\n",
    "                                bins=[0, 7, 14, 24],\n",
    "                                labels=['morning', 'afternoon', 'night'],\n",
    "                                right=False)\n",
    "display(dataset)"
   ]
  },
  {
   "cell_type": "markdown",
   "id": "d5bb1c55",
   "metadata": {},
   "source": [
    "## 3. Relationship between variables and new features"
   ]
  },
  {
   "cell_type": "markdown",
   "id": "80a7188f",
   "metadata": {},
   "source": [
    "The following relationships are not supported via a formal statistical test, it's just some exploration of the data using univariate frequentist analysis to generate some hypothesis."
   ]
  },
  {
   "cell_type": "markdown",
   "id": "309bb772",
   "metadata": {},
   "source": [
    "### Delay"
   ]
  },
  {
   "cell_type": "code",
   "execution_count": 10,
   "id": "02d2efb1",
   "metadata": {},
   "outputs": [
    {
     "data": {
      "text/plain": [
       "delay_15\n",
       "0    0.81506\n",
       "1    0.18494\n",
       "Name: delay_15, dtype: float64"
      ]
     },
     "execution_count": 10,
     "metadata": {},
     "output_type": "execute_result"
    }
   ],
   "source": [
    "dataset.groupby('delay_15')['delay_15'].count()/(len(dataset))"
   ]
  },
  {
   "cell_type": "markdown",
   "id": "12bd4e19",
   "metadata": {},
   "source": [
    "We have more flights on time than those that were delayed, that tells us that we are going to have a class imbalance problem that we need to address when we go to train the model."
   ]
  },
  {
   "cell_type": "markdown",
   "id": "ee4491b5",
   "metadata": {},
   "source": [
    "### Day of the week"
   ]
  },
  {
   "cell_type": "code",
   "execution_count": 11,
   "id": "6248c589",
   "metadata": {},
   "outputs": [
    {
     "data": {
      "text/plain": [
       "DIANOM\n",
       "Domingo      0.161086\n",
       "Jueves       0.199493\n",
       "Lunes        0.202152\n",
       "Martes       0.169116\n",
       "Miercoles    0.170850\n",
       "Sabado       0.163194\n",
       "Viernes      0.222017\n",
       "Name: delay_15, dtype: float64"
      ]
     },
     "execution_count": 11,
     "metadata": {},
     "output_type": "execute_result"
    }
   ],
   "source": [
    "dataset.groupby('DIANOM')['delay_15'].mean()"
   ]
  },
  {
   "cell_type": "markdown",
   "id": "c6b8b291",
   "metadata": {},
   "source": [
    "The days of the week where there are more delays are the same ones in which people usually travel more, that makes sense since if the airport is more crowded there will be more probability of delay."
   ]
  },
  {
   "cell_type": "markdown",
   "id": "1fbd9482",
   "metadata": {},
   "source": [
    "### Day of the month"
   ]
  },
  {
   "cell_type": "code",
   "execution_count": 12,
   "id": "06db4f94",
   "metadata": {},
   "outputs": [
    {
     "data": {
      "text/plain": [
       "DIA\n",
       "1     0.032373\n",
       "2     0.032592\n",
       "3     0.033296\n",
       "4     0.032475\n",
       "5     0.032856\n",
       "6     0.033355\n",
       "7     0.033194\n",
       "8     0.032446\n",
       "9     0.032651\n",
       "10    0.033472\n",
       "11    0.032798\n",
       "12    0.033487\n",
       "13    0.033311\n",
       "14    0.032563\n",
       "15    0.032827\n",
       "16    0.033252\n",
       "17    0.032666\n",
       "18    0.031669\n",
       "19    0.032812\n",
       "20    0.033575\n",
       "21    0.033238\n",
       "22    0.033311\n",
       "23    0.033135\n",
       "24    0.032724\n",
       "25    0.031947\n",
       "26    0.033238\n",
       "27    0.033516\n",
       "28    0.032724\n",
       "29    0.029968\n",
       "30    0.029616\n",
       "31    0.018913\n",
       "Name: delay_15, dtype: float64"
      ]
     },
     "execution_count": 12,
     "metadata": {},
     "output_type": "execute_result"
    }
   ],
   "source": [
    "dataset.groupby('DIA')['delay_15'].count()/(len(dataset))"
   ]
  },
  {
   "cell_type": "markdown",
   "id": "73774846",
   "metadata": {},
   "source": [
    "there does not seem to be a trend in the number of trips with the day of the month they are made"
   ]
  },
  {
   "cell_type": "code",
   "execution_count": 13,
   "id": "a484d534",
   "metadata": {},
   "outputs": [
    {
     "data": {
      "text/plain": [
       "DIA\n",
       "1     0.148551\n",
       "2     0.158345\n",
       "3     0.176134\n",
       "4     0.189616\n",
       "5     0.174476\n",
       "6     0.197363\n",
       "7     0.158127\n",
       "8     0.162223\n",
       "9     0.178267\n",
       "10    0.225580\n",
       "11    0.232454\n",
       "12    0.190893\n",
       "13    0.181778\n",
       "14    0.202161\n",
       "15    0.242966\n",
       "16    0.206349\n",
       "17    0.195242\n",
       "18    0.190741\n",
       "19    0.174710\n",
       "20    0.196070\n",
       "21    0.191442\n",
       "22    0.191901\n",
       "23    0.179646\n",
       "24    0.171595\n",
       "25    0.183570\n",
       "26    0.199824\n",
       "27    0.159668\n",
       "28    0.169355\n",
       "29    0.167319\n",
       "30    0.162376\n",
       "31    0.157364\n",
       "Name: delay_15, dtype: float64"
      ]
     },
     "execution_count": 13,
     "metadata": {},
     "output_type": "execute_result"
    }
   ],
   "source": [
    "dataset.groupby('DIA')['delay_15'].mean()"
   ]
  },
  {
   "cell_type": "markdown",
   "id": "85be9176",
   "metadata": {},
   "source": [
    "It could be some pattern here, but it's hard to say right now, but this information would be useful for the model."
   ]
  },
  {
   "cell_type": "markdown",
   "id": "65ccde2f",
   "metadata": {},
   "source": [
    "### Month"
   ]
  },
  {
   "cell_type": "code",
   "execution_count": 14,
   "id": "bafbcc01",
   "metadata": {},
   "outputs": [
    {
     "data": {
      "text/plain": [
       "MES\n",
       "1     0.160118\n",
       "2     0.151591\n",
       "3     0.115104\n",
       "4     0.116534\n",
       "5     0.157824\n",
       "6     0.171050\n",
       "7     0.293391\n",
       "8     0.173398\n",
       "9     0.172371\n",
       "10    0.225962\n",
       "11    0.197204\n",
       "12    0.254091\n",
       "Name: delay_15, dtype: float64"
      ]
     },
     "execution_count": 14,
     "metadata": {},
     "output_type": "execute_result"
    }
   ],
   "source": [
    "dataset.groupby('MES')['delay_15'].mean()"
   ]
  },
  {
   "cell_type": "markdown",
   "id": "cf806446",
   "metadata": {},
   "source": [
    "### Flight type"
   ]
  },
  {
   "cell_type": "code",
   "execution_count": 15,
   "id": "bc3d1a51",
   "metadata": {},
   "outputs": [
    {
     "data": {
      "text/plain": [
       "TIPOVUELO\n",
       "I    0.225608\n",
       "N    0.150571\n",
       "Name: delay_15, dtype: float64"
      ]
     },
     "execution_count": 15,
     "metadata": {},
     "output_type": "execute_result"
    }
   ],
   "source": [
    "dataset.groupby('TIPOVUELO')['delay_15'].mean()"
   ]
  },
  {
   "cell_type": "markdown",
   "id": "3c94ae03",
   "metadata": {},
   "source": [
    "### Different airlines to schedulle and operate"
   ]
  },
  {
   "cell_type": "markdown",
   "id": "00302782",
   "metadata": {},
   "source": [
    "Lets create a new variable that said if a flight was operated with a different airline to the one that was schedulled"
   ]
  },
  {
   "cell_type": "code",
   "execution_count": 16,
   "id": "602a7842",
   "metadata": {},
   "outputs": [],
   "source": [
    "dataset['airline_diff'] = dataset['Emp-I'] != dataset['Emp-O']"
   ]
  },
  {
   "cell_type": "markdown",
   "id": "345d89b6",
   "metadata": {},
   "source": [
    "Let's see what part of the flight is operated with a different airline than the one that was scheduled"
   ]
  },
  {
   "cell_type": "code",
   "execution_count": 17,
   "id": "6c596eeb",
   "metadata": {},
   "outputs": [
    {
     "data": {
      "text/plain": [
       "airline_diff\n",
       "False    0.726285\n",
       "True     0.273715\n",
       "Name: delay_15, dtype: float64"
      ]
     },
     "execution_count": 17,
     "metadata": {},
     "output_type": "execute_result"
    }
   ],
   "source": [
    "dataset.groupby('airline_diff')['delay_15'].count()/(len(dataset))"
   ]
  },
  {
   "cell_type": "markdown",
   "id": "332ef38d",
   "metadata": {},
   "source": [
    "El 27% de los vuelos son operados con una aerolínea diferente, ahora veamos cómo afecta esto al retraso de los vuelos."
   ]
  },
  {
   "cell_type": "code",
   "execution_count": 18,
   "id": "26e7243c",
   "metadata": {},
   "outputs": [
    {
     "data": {
      "text/plain": [
       "airline_diff\n",
       "False    0.186790\n",
       "True     0.180031\n",
       "Name: delay_15, dtype: float64"
      ]
     },
     "execution_count": 18,
     "metadata": {},
     "output_type": "execute_result"
    }
   ],
   "source": [
    "dataset.groupby('airline_diff')['delay_15'].mean()"
   ]
  },
  {
   "cell_type": "markdown",
   "id": "c7f3a1b9",
   "metadata": {},
   "source": [
    "### Different flight number"
   ]
  },
  {
   "cell_type": "code",
   "execution_count": 19,
   "id": "38784c47",
   "metadata": {},
   "outputs": [],
   "source": [
    "dataset['Vlo_diff'] = dataset['Vlo-I'] != dataset['Vlo-O']"
   ]
  },
  {
   "cell_type": "code",
   "execution_count": 20,
   "id": "95f03c24",
   "metadata": {},
   "outputs": [
    {
     "data": {
      "text/plain": [
       "Vlo_diff\n",
       "False    0.933745\n",
       "True     0.066255\n",
       "Name: delay_15, dtype: float64"
      ]
     },
     "execution_count": 20,
     "metadata": {},
     "output_type": "execute_result"
    }
   ],
   "source": [
    "dataset.groupby('Vlo_diff')['delay_15'].count()/(len(dataset))"
   ]
  },
  {
   "cell_type": "code",
   "execution_count": 21,
   "id": "20c973cb",
   "metadata": {},
   "outputs": [
    {
     "data": {
      "text/plain": [
       "Vlo_diff\n",
       "False    0.179927\n",
       "True     0.255588\n",
       "Name: delay_15, dtype: float64"
      ]
     },
     "execution_count": 21,
     "metadata": {},
     "output_type": "execute_result"
    }
   ],
   "source": [
    "dataset.groupby('Vlo_diff')['delay_15'].mean()"
   ]
  },
  {
   "cell_type": "markdown",
   "id": "f74ea8ca",
   "metadata": {},
   "source": [
    "Change the flight seems to affect the probaility of delay."
   ]
  },
  {
   "cell_type": "markdown",
   "id": "7ad92029",
   "metadata": {},
   "source": [
    "### Different arrival city"
   ]
  },
  {
   "cell_type": "code",
   "execution_count": 22,
   "id": "6fb08170",
   "metadata": {},
   "outputs": [],
   "source": [
    "dataset['Des_diff'] = dataset['Des-I'] != dataset['Des-O']"
   ]
  },
  {
   "cell_type": "code",
   "execution_count": 23,
   "id": "208fcadc",
   "metadata": {},
   "outputs": [
    {
     "data": {
      "text/plain": [
       "Des_diff\n",
       "False    0.999589\n",
       "True     0.000411\n",
       "Name: delay_15, dtype: float64"
      ]
     },
     "execution_count": 23,
     "metadata": {},
     "output_type": "execute_result"
    }
   ],
   "source": [
    "dataset.groupby('Des_diff')['delay_15'].count()/(len(dataset))"
   ]
  },
  {
   "cell_type": "code",
   "execution_count": 24,
   "id": "658500f8",
   "metadata": {},
   "outputs": [
    {
     "data": {
      "text/plain": [
       "Des_diff\n",
       "False    0.184898\n",
       "True     0.285714\n",
       "Name: delay_15, dtype: float64"
      ]
     },
     "execution_count": 24,
     "metadata": {},
     "output_type": "execute_result"
    }
   ],
   "source": [
    "dataset.groupby('Des_diff')['delay_15'].mean()"
   ]
  },
  {
   "cell_type": "markdown",
   "id": "75d3a7a7",
   "metadata": {},
   "source": [
    "Change the arrival city seems to affect too."
   ]
  },
  {
   "cell_type": "markdown",
   "id": "3ec47e36",
   "metadata": {},
   "source": [
    "### Different departure city"
   ]
  },
  {
   "cell_type": "code",
   "execution_count": 25,
   "id": "26d326d7",
   "metadata": {},
   "outputs": [],
   "source": [
    "dataset['Ori_diff'] = dataset['Ori-I'] != dataset['Ori-O']"
   ]
  },
  {
   "cell_type": "code",
   "execution_count": 26,
   "id": "ec4225c5",
   "metadata": {},
   "outputs": [
    {
     "data": {
      "text/plain": [
       "Ori_diff\n",
       "False    1.0\n",
       "Name: delay_15, dtype: float64"
      ]
     },
     "execution_count": 26,
     "metadata": {},
     "output_type": "execute_result"
    }
   ],
   "source": [
    "dataset.groupby('Ori_diff')['delay_15'].count()/(len(dataset))"
   ]
  },
  {
   "cell_type": "code",
   "execution_count": 27,
   "id": "2f9e063f",
   "metadata": {},
   "outputs": [
    {
     "data": {
      "text/plain": [
       "Ori_diff\n",
       "False    0.18494\n",
       "Name: delay_15, dtype: float64"
      ]
     },
     "execution_count": 27,
     "metadata": {},
     "output_type": "execute_result"
    }
   ],
   "source": [
    "dataset.groupby('Ori_diff')['delay_15'].mean()"
   ]
  },
  {
   "cell_type": "markdown",
   "id": "448e30d1",
   "metadata": {},
   "source": [
    "Doesnt make sense to incluide this variable because there is only one departure city"
   ]
  },
  {
   "cell_type": "markdown",
   "id": "338dd44f",
   "metadata": {},
   "source": [
    "### High season"
   ]
  },
  {
   "cell_type": "code",
   "execution_count": 28,
   "id": "fe403f28",
   "metadata": {},
   "outputs": [
    {
     "data": {
      "text/plain": [
       "high_season\n",
       "0    0.896681\n",
       "1    0.103319\n",
       "Name: delay_15, dtype: float64"
      ]
     },
     "execution_count": 28,
     "metadata": {},
     "output_type": "execute_result"
    }
   ],
   "source": [
    "dataset.groupby('high_season')['delay_15'].count()/(len(dataset))"
   ]
  },
  {
   "cell_type": "code",
   "execution_count": 29,
   "id": "88ed5620",
   "metadata": {},
   "outputs": [
    {
     "data": {
      "text/plain": [
       "high_season\n",
       "0    0.180006\n",
       "1    0.227756\n",
       "Name: delay_15, dtype: float64"
      ]
     },
     "execution_count": 29,
     "metadata": {},
     "output_type": "execute_result"
    }
   ],
   "source": [
    "dataset.groupby('high_season')['delay_15'].mean()"
   ]
  },
  {
   "cell_type": "markdown",
   "id": "9b8cbc8b",
   "metadata": {},
   "source": [
    "It seems to be a clear pattern that a delay is more likely when the airports are busier."
   ]
  },
  {
   "cell_type": "markdown",
   "id": "c39a89b3",
   "metadata": {},
   "source": [
    "### Period day"
   ]
  },
  {
   "cell_type": "code",
   "execution_count": 30,
   "id": "36a780e4",
   "metadata": {},
   "outputs": [
    {
     "data": {
      "text/plain": [
       "period_day\n",
       "morning      0.371698\n",
       "afternoon    0.373955\n",
       "night        0.254347\n",
       "Name: delay_15, dtype: float64"
      ]
     },
     "execution_count": 30,
     "metadata": {},
     "output_type": "execute_result"
    }
   ],
   "source": [
    "dataset.groupby('period_day')['delay_15'].count()/(len(dataset))"
   ]
  },
  {
   "cell_type": "code",
   "execution_count": 31,
   "id": "c09d9368",
   "metadata": {},
   "outputs": [
    {
     "data": {
      "text/plain": [
       "period_day\n",
       "morning      0.160066\n",
       "afternoon    0.199404\n",
       "night        0.200023\n",
       "Name: delay_15, dtype: float64"
      ]
     },
     "execution_count": 31,
     "metadata": {},
     "output_type": "execute_result"
    }
   ],
   "source": [
    "dataset.groupby('period_day')['delay_15'].mean()"
   ]
  },
  {
   "cell_type": "markdown",
   "id": "8e016191",
   "metadata": {},
   "source": [
    "It would be more likely a delay on a night flight, that could be because night brings more challenges to all operations, especially visibility for pilots."
   ]
  },
  {
   "cell_type": "markdown",
   "id": "758db40c",
   "metadata": {},
   "source": [
    "### Distance of the flight"
   ]
  },
  {
   "cell_type": "markdown",
   "id": "2902e362",
   "metadata": {},
   "source": [
    "We could get the distance between the arrival and departure city with the API of Gmaps to use that distance as feature, becuase that could affect the probability of delay."
   ]
  },
  {
   "cell_type": "markdown",
   "id": "e05b1c30",
   "metadata": {},
   "source": [
    "## 4. Train models\n",
    "Models to train:\n",
    "- Logistic Regression\n",
    "- SVM\n",
    "- Xgboost"
   ]
  },
  {
   "cell_type": "markdown",
   "id": "8994db6b",
   "metadata": {},
   "source": [
    "### Split dataset into training and test"
   ]
  },
  {
   "cell_type": "code",
   "execution_count": 34,
   "id": "0ef0a723",
   "metadata": {},
   "outputs": [],
   "source": [
    "# The following are the regressors tha we are going to use\n",
    "one_hot_regressors = ['period_day', 'DIANOM', 'TIPOVUELO']\n",
    "regressors =  ['Vlo_diff', 'Des_diff', 'airline_diff', 'DIA', 'MES', 'high_season']\n",
    "\n",
    "y = dataset['delay_15']\n",
    "X = dataset[one_hot_regressors + regressors]\n",
    "one_hot = pd.get_dummies(X[one_hot_regressors])\n",
    "X = X.drop(one_hot_regressors,axis = 1)\n",
    "X = X.join(one_hot)"
   ]
  },
  {
   "cell_type": "code",
   "execution_count": 35,
   "id": "5e4c6c67",
   "metadata": {},
   "outputs": [],
   "source": [
    "from sklearn.model_selection import train_test_split\n",
    "\n",
    "X_train, X_test, y_train, y_test = train_test_split(X, y, test_size=0.33, random_state=42, stratify=y)"
   ]
  },
  {
   "cell_type": "markdown",
   "id": "d871c4cd",
   "metadata": {},
   "source": [
    "Training"
   ]
  },
  {
   "cell_type": "code",
   "execution_count": 36,
   "id": "42906f6b",
   "metadata": {},
   "outputs": [
    {
     "data": {
      "text/html": [
       "<style>#sk-container-id-1 {color: black;background-color: white;}#sk-container-id-1 pre{padding: 0;}#sk-container-id-1 div.sk-toggleable {background-color: white;}#sk-container-id-1 label.sk-toggleable__label {cursor: pointer;display: block;width: 100%;margin-bottom: 0;padding: 0.3em;box-sizing: border-box;text-align: center;}#sk-container-id-1 label.sk-toggleable__label-arrow:before {content: \"▸\";float: left;margin-right: 0.25em;color: #696969;}#sk-container-id-1 label.sk-toggleable__label-arrow:hover:before {color: black;}#sk-container-id-1 div.sk-estimator:hover label.sk-toggleable__label-arrow:before {color: black;}#sk-container-id-1 div.sk-toggleable__content {max-height: 0;max-width: 0;overflow: hidden;text-align: left;background-color: #f0f8ff;}#sk-container-id-1 div.sk-toggleable__content pre {margin: 0.2em;color: black;border-radius: 0.25em;background-color: #f0f8ff;}#sk-container-id-1 input.sk-toggleable__control:checked~div.sk-toggleable__content {max-height: 200px;max-width: 100%;overflow: auto;}#sk-container-id-1 input.sk-toggleable__control:checked~label.sk-toggleable__label-arrow:before {content: \"▾\";}#sk-container-id-1 div.sk-estimator input.sk-toggleable__control:checked~label.sk-toggleable__label {background-color: #d4ebff;}#sk-container-id-1 div.sk-label input.sk-toggleable__control:checked~label.sk-toggleable__label {background-color: #d4ebff;}#sk-container-id-1 input.sk-hidden--visually {border: 0;clip: rect(1px 1px 1px 1px);clip: rect(1px, 1px, 1px, 1px);height: 1px;margin: -1px;overflow: hidden;padding: 0;position: absolute;width: 1px;}#sk-container-id-1 div.sk-estimator {font-family: monospace;background-color: #f0f8ff;border: 1px dotted black;border-radius: 0.25em;box-sizing: border-box;margin-bottom: 0.5em;}#sk-container-id-1 div.sk-estimator:hover {background-color: #d4ebff;}#sk-container-id-1 div.sk-parallel-item::after {content: \"\";width: 100%;border-bottom: 1px solid gray;flex-grow: 1;}#sk-container-id-1 div.sk-label:hover label.sk-toggleable__label {background-color: #d4ebff;}#sk-container-id-1 div.sk-serial::before {content: \"\";position: absolute;border-left: 1px solid gray;box-sizing: border-box;top: 0;bottom: 0;left: 50%;z-index: 0;}#sk-container-id-1 div.sk-serial {display: flex;flex-direction: column;align-items: center;background-color: white;padding-right: 0.2em;padding-left: 0.2em;position: relative;}#sk-container-id-1 div.sk-item {position: relative;z-index: 1;}#sk-container-id-1 div.sk-parallel {display: flex;align-items: stretch;justify-content: center;background-color: white;position: relative;}#sk-container-id-1 div.sk-item::before, #sk-container-id-1 div.sk-parallel-item::before {content: \"\";position: absolute;border-left: 1px solid gray;box-sizing: border-box;top: 0;bottom: 0;left: 50%;z-index: -1;}#sk-container-id-1 div.sk-parallel-item {display: flex;flex-direction: column;z-index: 1;position: relative;background-color: white;}#sk-container-id-1 div.sk-parallel-item:first-child::after {align-self: flex-end;width: 50%;}#sk-container-id-1 div.sk-parallel-item:last-child::after {align-self: flex-start;width: 50%;}#sk-container-id-1 div.sk-parallel-item:only-child::after {width: 0;}#sk-container-id-1 div.sk-dashed-wrapped {border: 1px dashed gray;margin: 0 0.4em 0.5em 0.4em;box-sizing: border-box;padding-bottom: 0.4em;background-color: white;}#sk-container-id-1 div.sk-label label {font-family: monospace;font-weight: bold;display: inline-block;line-height: 1.2em;}#sk-container-id-1 div.sk-label-container {text-align: center;}#sk-container-id-1 div.sk-container {/* jupyter's `normalize.less` sets `[hidden] { display: none; }` but bootstrap.min.css set `[hidden] { display: none !important; }` so we also need the `!important` here to be able to override the default hidden behavior on the sphinx rendered scikit-learn.org. See: https://github.com/scikit-learn/scikit-learn/issues/21755 */display: inline-block !important;position: relative;}#sk-container-id-1 div.sk-text-repr-fallback {display: none;}</style><div id=\"sk-container-id-1\" class=\"sk-top-container\"><div class=\"sk-text-repr-fallback\"><pre>SVC(C=12, gamma=0.001, kernel=&#x27;linear&#x27;)</pre><b>In a Jupyter environment, please rerun this cell to show the HTML representation or trust the notebook. <br />On GitHub, the HTML representation is unable to render, please try loading this page with nbviewer.org.</b></div><div class=\"sk-container\" hidden><div class=\"sk-item\"><div class=\"sk-estimator sk-toggleable\"><input class=\"sk-toggleable__control sk-hidden--visually\" id=\"sk-estimator-id-1\" type=\"checkbox\" checked><label for=\"sk-estimator-id-1\" class=\"sk-toggleable__label sk-toggleable__label-arrow\">SVC</label><div class=\"sk-toggleable__content\"><pre>SVC(C=12, gamma=0.001, kernel=&#x27;linear&#x27;)</pre></div></div></div></div></div>"
      ],
      "text/plain": [
       "SVC(C=12, gamma=0.001, kernel='linear')"
      ]
     },
     "execution_count": 36,
     "metadata": {},
     "output_type": "execute_result"
    }
   ],
   "source": [
    "from sklearn.svm import SVC\n",
    "linsvc = SVC(kernel = 'linear',C=12, gamma=0.001)\n",
    "linsvc.fit(X_train, y_train)"
   ]
  },
  {
   "cell_type": "markdown",
   "id": "8047a025",
   "metadata": {},
   "source": [
    "## 5. Evaluation"
   ]
  },
  {
   "cell_type": "code",
   "execution_count": 39,
   "id": "73f28e00",
   "metadata": {},
   "outputs": [],
   "source": [
    "from sklearn.metrics import confusion_matrix"
   ]
  },
  {
   "cell_type": "markdown",
   "id": "4cddb8e9",
   "metadata": {},
   "source": [
    "### Estimation"
   ]
  },
  {
   "cell_type": "code",
   "execution_count": 41,
   "id": "7f855c24",
   "metadata": {},
   "outputs": [],
   "source": [
    "pred_test = linsvc.predict(X_test)\n",
    "pred_train = linsvc.predict(X_train)"
   ]
  },
  {
   "cell_type": "markdown",
   "id": "05feadd8",
   "metadata": {},
   "source": [
    "### Metrics"
   ]
  },
  {
   "cell_type": "code",
   "execution_count": 42,
   "id": "8ab4b734",
   "metadata": {},
   "outputs": [
    {
     "name": "stdout",
     "output_type": "stream",
     "text": [
      "Train\n"
     ]
    },
    {
     "data": {
      "text/plain": [
       "array([[18345,     0],\n",
       "       [ 4163,     0]], dtype=int64)"
      ]
     },
     "execution_count": 42,
     "metadata": {},
     "output_type": "execute_result"
    }
   ],
   "source": [
    "print('Train')\n",
    "confusion_matrix(y_test, pred_test)"
   ]
  },
  {
   "cell_type": "code",
   "execution_count": 43,
   "id": "a322e899",
   "metadata": {},
   "outputs": [
    {
     "name": "stdout",
     "output_type": "stream",
     "text": [
      "Test\n"
     ]
    },
    {
     "data": {
      "text/plain": [
       "array([[18345,     0],\n",
       "       [ 4163,     0]], dtype=int64)"
      ]
     },
     "execution_count": 43,
     "metadata": {},
     "output_type": "execute_result"
    }
   ],
   "source": [
    "print('Test')\n",
    "confusion_matrix(y_test, pred_test)"
   ]
  },
  {
   "cell_type": "code",
   "execution_count": null,
   "id": "d4525bb5",
   "metadata": {},
   "outputs": [],
   "source": []
  }
 ],
 "metadata": {
  "kernelspec": {
   "display_name": "Python 3 (ipykernel)",
   "language": "python",
   "name": "python3"
  },
  "language_info": {
   "codemirror_mode": {
    "name": "ipython",
    "version": 3
   },
   "file_extension": ".py",
   "mimetype": "text/x-python",
   "name": "python",
   "nbconvert_exporter": "python",
   "pygments_lexer": "ipython3",
   "version": "3.10.4"
  }
 },
 "nbformat": 4,
 "nbformat_minor": 5
}
